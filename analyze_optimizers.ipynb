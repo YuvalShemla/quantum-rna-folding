{
 "cells": [
  {
   "cell_type": "markdown",
   "metadata": {},
   "source": [
    "Classical Solver for QUBO Optimization\n",
    "This project uses a classical integer programming solver to find the optimal RNA secondary structure by minimizing the QUBO (Quadratic Unconstrained Binary Optimization) Hamiltonian. The QUBO is constructed from the potential stems, pseudoknot penalties, and overlap penalties, and encodes the energy landscape of possible RNA foldings.\n",
    "We use the Google OR-Tools CP-SAT solver to solve this problem. The solver treats each potential stem as a Boolean variable (0 = not selected, 1 = selected) and finds the combination of stems that minimizes the total energy, while automatically respecting the penalties for overlaps and pseudoknots.\n",
    "Key steps:\n",
    "Preprocessing: Extract all potential stems, pseudoknots, and overlaps from the RNA sequence.\n",
    "Model Construction: Build the QUBO Hamiltonian (linear and quadratic terms) using the preprocessing results.\n",
    "Optimization: Use the CP-SAT solver to find the optimal set of stems (the predicted structure).\n",
    "Evaluation: Compare the predicted structure to the actual (experimentally determined) structure."
   ]
  },
  {
   "cell_type": "code",
   "execution_count": null,
   "metadata": {},
   "outputs": [],
   "source": [
    "from preprocess_sequence import (\n",
    "    actual_stems, potential_stems, potential_pseudoknots, potential_overlaps, model\n",
    ")\n",
    "from classical_optimizer import solve_qubo_with_cpsat\n",
    "\n",
    "# Example file paths and directory\n",
    "ct_file = \"your_file.ct\"\n",
    "fasta_file = \"your_file.fasta\"\n",
    "subdirectory = \"your_data_directory\"\n",
    "pseudoknot_penalty = 2.0\n",
    "\n",
    "# 1. Get actual stems (ground truth)\n",
    "actual = actual_stems(ct_file, fasta_file, subdirectory)\n",
    "\n",
    "# 2. Get potential stems and related info\n",
    "pot_stems, mu, rna, seq_len = potential_stems(fasta_file, subdirectory)\n",
    "\n",
    "# 3. Get potential pseudoknots and overlaps\n",
    "pot_pks = potential_pseudoknots(pot_stems, pseudoknot_penalty)\n",
    "pot_ovs = potential_overlaps(pot_stems)\n",
    "\n",
    "# 4. Build the QUBO model (linear and quadratic terms)\n",
    "L, Q = model(pot_stems, pot_pks, pot_ovs, mu)\n",
    "\n",
    "# 5. Solve the QUBO using the classical solver\n",
    "solution, energy = solve_qubo_with_cpsat(L, Q)\n",
    "\n",
    "# 6. (Optional) Extract the predicted stems from the solution\n",
    "predicted_stems = [pot_stems[i] for i, v in solution.items() if v == 1]\n",
    "print(\"Predicted stems:\", predicted_stems)"
   ]
  }
 ],
 "metadata": {
  "language_info": {
   "name": "python"
  }
 },
 "nbformat": 4,
 "nbformat_minor": 2
}
