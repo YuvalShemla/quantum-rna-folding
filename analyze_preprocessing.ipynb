{
 "cells": [
  {
   "cell_type": "markdown",
   "metadata": {},
   "source": [
    "### RNA Structure Preprocessing Analysis\n",
    "\n",
    "This notebook demonstrates the preprocessing pipeline for RNA structure prediction, using the example of bpRNA_RFAM_23352, a real RNA sequence which contains pseudoknots."
   ]
  },
  {
   "cell_type": "code",
   "execution_count": 2,
   "metadata": {},
   "outputs": [],
   "source": [
    "import sys\n",
    "sys.path.append('.')\n",
    "from preprocess_sequence import *\n",
    "import numpy as np\n",
    "import matplotlib.pyplot as plt\n",
    "import seaborn as sns\n",
    "from IPython.display import display, HTML"
   ]
  },
  {
   "cell_type": "markdown",
   "metadata": {},
   "source": [
    "## 1. Load and Display Input Files"
   ]
  },
  {
   "cell_type": "code",
   "execution_count": 3,
   "metadata": {},
   "outputs": [
    {
     "name": "stdout",
     "output_type": "stream",
     "text": [
      "FASTA Content:\n",
      ">RF01072_D13438.1_6370-6402\n",
      "AGUGUUUUUUUCCCUCCACUUAAAUCGAAGGGU\n",
      "\n",
      "First 10 lines of CT file:\n",
      "   1\tA\t0\t2\t0\t1\n",
      "   2\tG\t1\t3\t19\t2\n",
      "   3\tU\t2\t4\t18\t3\n",
      "   4\tG\t3\t5\t17\t4\n",
      "   5\tU\t4\t6\t0\t5\n",
      "   6\tU\t5\t7\t0\t6\n",
      "   7\tU\t6\t8\t0\t7\n",
      "   8\tU\t7\t9\t0\t8\n",
      "   9\tU\t8\t10\t0\t9\n",
      "  10\tU\t9\t11\t0\t10\n",
      "\n"
     ]
    }
   ],
   "source": [
    "# Define file paths\n",
    "subdirectory = \"./data\"\n",
    "ct_file = \"bpRNA_RFAM_23352.ct.txt\"\n",
    "fasta_file = \"bpRNA_RFAM_23352.fasta.txt\"\n",
    "\n",
    "# Read and display FASTA file\n",
    "with open(f\"{subdirectory}/{fasta_file}\") as f:\n",
    "    fasta_content = f.read()\n",
    "print(\"FASTA Content:\")\n",
    "print(fasta_content)\n",
    "\n",
    "# Read and display first few lines of CT file\n",
    "with open(f\"{subdirectory}/{ct_file}\") as f:\n",
    "    ct_content = f.readlines()[:10]\n",
    "print(\"\\nFirst 10 lines of CT file:\")\n",
    "print(''.join(ct_content))"
   ]
  },
  {
   "cell_type": "markdown",
   "metadata": {},
   "source": [
    "## RNA Structure Data Formats\n",
    "\n",
    "## FASTA Format\n",
    "The FASTA file contains the primary sequence of the RNA molecule.\n",
    "\n",
    "### Format\n",
    "```\n",
    ">RF01072_D13438.1_6370-6402\n",
    "AGUGUUUUUUUCCCUCCACUUAAAUCGAAGGGU\n",
    "```\n",
    "\n",
    "### Header Information\n",
    "- `RF01072`: Rfam family ID\n",
    "- `D13438.1`: GenBank accession number\n",
    "- `6370-6402`: Sequence position in original genome\n",
    "\n",
    "### Sequence\n",
    "- Contains the linear sequence of nucleotides (A, U, G, C)\n",
    "- Length: 33 nucleotides\n",
    "- Represents the primary structure of the RNA\n",
    "\n",
    "## CT (Connectivity Table) Format\n",
    "The CT file contains detailed information about the RNA's secondary structure.\n",
    "\n",
    "### Format\n",
    "Each line contains 6 columns:\n",
    "```\n",
    "1    A    0    2    0    1\n",
    "2    G    1    3    19   2\n",
    "3    U    2    4    18   3\n",
    "...\n",
    "```\n",
    "\n",
    "### Column Meanings\n",
    "1. **Nucleotide Number**: Position in sequence (1-based)\n",
    "2. **Base**: Nucleotide type (A, U, G, C)\n",
    "3. **Previous**: Index of previous nucleotide\n",
    "4. **Next**: Index of next nucleotide\n",
    "5. **Pair**: Index of paired nucleotide (0 if unpaired)\n",
    "6. **Historical**: Historical numbering (usually same as column 1)\n",
    "\n",
    "### Example\n",
    "```\n",
    "2    G    1    3    19   2\n",
    "```\n",
    "- Position 2 in sequence\n",
    "- Contains Guanine (G)\n",
    "- Connected to nucleotide 1 before it\n",
    "- Connected to nucleotide 3 after it\n",
    "- Pairs with nucleotide 19\n",
    "- Historical number is 2\n",
    "\n",
    "## Usage in RNA Structure Prediction\n",
    "- FASTA provides the primary sequence\n",
    "- CT file provides the known secondary structure\n",
    "- Together they help:\n",
    "  - Identify known stems (base pairs)\n",
    "  - Understand folding patterns\n",
    "  - Validate structure predictions\n",
    "  - Train quantum algorithms"
   ]
  },
  {
   "cell_type": "markdown",
   "metadata": {},
   "source": [
    "## 2. Process Actual Stems from CT File"
   ]
  },
  {
   "cell_type": "code",
   "execution_count": 4,
   "metadata": {},
   "outputs": [
    {
     "name": "stdout",
     "output_type": "stream",
     "text": [
      "Number of actual stems found: 3\n",
      "\n",
      "Actual stems (start, end, energy):\n",
      "Stem: [2, 19, 8]\n",
      "Stem: [11, 33, 11]\n",
      "Stem: [16, 27, 3]\n"
     ]
    }
   ],
   "source": [
    "# Get actual stems from CT file\n",
    "actual_stems_list = actual_stems(ct_file, fasta_file, subdirectory)\n",
    "\n",
    "print(f\"Number of actual stems found: {len(actual_stems_list)}\")\n",
    "print(\"\\nActual stems (start, end, energy):\")\n",
    "for stem in actual_stems_list:\n",
    "    print(f\"Stem: {stem}\")"
   ]
  },
  {
   "cell_type": "markdown",
   "metadata": {},
   "source": [
    "### Analysis of Actual Stems\n",
    "The results show 3 actual stems found in the RNA structure:\n",
    "- Stem 1 (2,19,8): Forms between positions 2-19 with energy of 8\n",
    "- Stem 2 (11,33,11): Forms between positions 11-33 with energy of 11  \n",
    "- Stem 3 (16,27,3): Forms between positions 16-27 with energy of 3\n",
    "\n",
    "These stems represent the experimentally validated base pairs in the RNA structure. The numbers indicate the start position, end position, and energy value respectively. Lower energy values indicate more stable stems."
   ]
  },
  {
   "cell_type": "markdown",
   "metadata": {},
   "source": [
    "## 3. Generate Potential Stems"
   ]
  },
  {
   "cell_type": "code",
   "execution_count": 5,
   "metadata": {},
   "outputs": [
    {
     "name": "stdout",
     "output_type": "stream",
     "text": [
      "RNA Sequence Length: 33\n",
      "Maximum stem energy (mu): 14.7\n",
      "\n",
      "Number of potential stems: 74\n",
      "\n",
      "First 5 potential stems (start, end, energy):\n",
      "Stem: [1, 6, 4]\n",
      "Stem: [1, 20, 7]\n",
      "Stem: [1, 20, 11]\n",
      "Stem: [2, 19, 8]\n",
      "Stem: [4, 25, 6]\n"
     ]
    }
   ],
   "source": [
    "# Get potential stems\n",
    "stems_potential, mu, rna_seq, seq_length = potential_stems(fasta_file, subdirectory)\n",
    "\n",
    "print(f\"RNA Sequence Length: {seq_length}\")\n",
    "print(f\"Maximum stem energy (mu): {mu}\")\n",
    "print(f\"\\nNumber of potential stems: {len(stems_potential)}\")\n",
    "print(\"\\nFirst 5 potential stems (start, end, energy):\")\n",
    "for stem in stems_potential[:5]:\n",
    "    print(f\"Stem: {stem}\")"
   ]
  },
  {
   "cell_type": "markdown",
   "metadata": {},
   "source": [
    "### Analysis of Potential Stems\n",
    "The analysis identified 74 potential stems with varying energies:\n",
    "- Maximum stem energy (mu) is 14.7\n",
    "- First few examples show stems of different lengths and energies\n",
    "- Large number of potential stems compared to actual stems (74 vs 3) indicates the complexity of RNA folding prediction\n",
    "- Energy values range from low (more stable) to high (less stable)\n",
    "\n",
    "This demonstrates how RNA can theoretically form many different stem structures, but only a few are energetically favorable and actually occur in nature."
   ]
  },
  {
   "cell_type": "markdown",
   "metadata": {},
   "source": [
    "## 4. Analyze Potential Pseudoknots"
   ]
  },
  {
   "cell_type": "code",
   "execution_count": 6,
   "metadata": {},
   "outputs": [
    {
     "name": "stdout",
     "output_type": "stream",
     "text": [
      "Total potential stem pairs: 2701\n",
      "Number of actual pseudoknots: 1132\n",
      "\n",
      "Example pseudoknots (stem1_idx, stem2_idx, penalty):\n",
      "Pseudoknot: [0, 3, 2.0]\n",
      "Pseudoknot: [0, 4, 2.0]\n",
      "Pseudoknot: [0, 5, 2.0]\n",
      "Pseudoknot: [0, 6, 2.0]\n",
      "Pseudoknot: [0, 7, 2.0]\n"
     ]
    }
   ],
   "source": [
    "# Set pseudoknot penalty\n",
    "pkp = 2.0  # Example penalty value\n",
    "\n",
    "# Get potential pseudoknots\n",
    "pseudoknots = potential_pseudoknots(stems_potential, pkp)\n",
    "\n",
    "# Count actual pseudoknots (those with penalty > 1)\n",
    "actual_pseudoknots = [pk for pk in pseudoknots if pk[2] > 1]\n",
    "\n",
    "print(f\"Total potential stem pairs: {len(pseudoknots)}\")\n",
    "print(f\"Number of actual pseudoknots: {len(actual_pseudoknots)}\")\n",
    "\n",
    "if actual_pseudoknots:\n",
    "    print(\"\\nExample pseudoknots (stem1_idx, stem2_idx, penalty):\")\n",
    "    for pk in actual_pseudoknots[:5]:\n",
    "        print(f\"Pseudoknot: {pk}\")"
   ]
  },
  {
   "cell_type": "markdown",
   "metadata": {},
   "source": [
    "### Analysis of Pseudoknots\n",
    "The analysis revealed:\n",
    "- Total potential stem pairs: 2701\n",
    "- Actual pseudoknots: 1132\n",
    "- Penalty value used: 2.0\n",
    "\n",
    "Pseudoknots occur when stems cross each other in the RNA structure. The large number of potential pseudoknots (1132) compared to actual stems (3) shows the complexity of RNA folding and the importance of considering these interactions in structure prediction."
   ]
  },
  {
   "cell_type": "markdown",
   "metadata": {},
   "source": [
    "## 5. Analyze Potential Overlaps"
   ]
  },
  {
   "cell_type": "code",
   "execution_count": 7,
   "metadata": {},
   "outputs": [
    {
     "name": "stdout",
     "output_type": "stream",
     "text": [
      "Total potential stem pairs: 2701\n",
      "Number of actual overlaps: 2652\n",
      "\n",
      "Example overlaps (stem1_idx, stem2_idx, penalty):\n",
      "Overlap: [0, 1, 10000]\n",
      "Overlap: [0, 2, 10000]\n",
      "Overlap: [0, 3, 10000]\n",
      "Overlap: [0, 4, 10000]\n",
      "Overlap: [0, 5, 10000]\n",
      "Overlap: [0, 6, 10000]\n",
      "Overlap: [0, 7, 10000]\n",
      "Overlap: [0, 8, 10000]\n",
      "Overlap: [0, 9, 10000]\n",
      "Overlap: [0, 10, 10000]\n"
     ]
    }
   ],
   "source": [
    "# Get potential overlaps\n",
    "overlaps = potential_overlaps(stems_potential)\n",
    "\n",
    "# Count actual overlaps (those with penalty > 0)\n",
    "actual_overlaps = [ov for ov in overlaps if ov[2] > 0]\n",
    "\n",
    "print(f\"Total potential stem pairs: {len(overlaps)}\")\n",
    "print(f\"Number of actual overlaps: {len(actual_overlaps)}\")\n",
    "\n",
    "if actual_overlaps:\n",
    "    print(\"\\nExample overlaps (stem1_idx, stem2_idx, penalty):\")\n",
    "    for ov in actual_overlaps[:10]:\n",
    "        print(f\"Overlap: {ov}\")"
   ]
  },
  {
   "cell_type": "markdown",
   "metadata": {},
   "source": [
    "### Analysis of Overlaps\n",
    "The results show:\n",
    "- Total potential stem pairs: 2701\n",
    "- Actual overlaps: 2652\n",
    "- High penalty value (1000000.0) for overlaps\n",
    "\n",
    "Overlaps occur when stems share nucleotides, which is physically impossible. The high number of overlaps and large penalty value ensures that such configurations are heavily penalized in the structure prediction."
   ]
  },
  {
   "cell_type": "markdown",
   "metadata": {},
   "source": [
    "## 6. Generate and Analyze Hamiltonian Terms"
   ]
  },
  {
   "cell_type": "code",
   "execution_count": 8,
   "metadata": {},
   "outputs": [
    {
     "name": "stdout",
     "output_type": "stream",
     "text": [
      "Number of linear terms: 74\n",
      "Number of quadratic terms: 2701\n",
      "\n",
      "Example linear terms:\n",
      "L[0] = 102.58999999999997\n",
      "L[1] = 13.289999999999992\n",
      "L[2] = -104.31\n",
      "L[3] = -16.110000000000014\n",
      "L[4] = 42.69\n",
      "\n",
      "Example quadratic terms:\n",
      "Q[(0, 1)] = 9944\n",
      "Q[(0, 2)] = 9912\n",
      "Q[(0, 3)] = 9872.0\n",
      "Q[(0, 4)] = 9904.0\n",
      "Q[(0, 5)] = 9872.0\n"
     ]
    }
   ],
   "source": [
    "# Generate Hamiltonian terms\n",
    "L, Q = model(stems_potential, pseudoknots, overlaps, mu)\n",
    "\n",
    "print(f\"Number of linear terms: {len(L)}\")\n",
    "print(f\"Number of quadratic terms: {len(Q)}\")\n",
    "\n",
    "print(\"\\nExample linear terms:\")\n",
    "for i, (key, value) in enumerate(L.items()):\n",
    "    if i < 5:  # Show first 5 terms\n",
    "        print(f\"L[{key}] = {value}\")\n",
    "\n",
    "print(\"\\nExample quadratic terms:\")\n",
    "for i, ((key1, key2), value) in enumerate(Q.items()):\n",
    "    if i < 5:  # Show first 5 terms\n",
    "        print(f\"Q[({key1}, {key2})] = {value}\")"
   ]
  },
  {
   "cell_type": "markdown",
   "metadata": {},
   "source": [
    "### Analysis of Hamiltonian Terms\n",
    "The analysis produced:\n",
    "- Linear terms: 74 (matching number of potential stems)\n",
    "- Quadratic terms: 2701 (matching number of stem pairs)\n",
    "- Linear terms range from negative to positive values\n",
    "- Quadratic terms show high penalties for conflicting stems\n",
    "\n",
    "These terms form the energy function used in quantum annealing, where:\n",
    "- Linear terms represent individual stem energies\n",
    "- Quadratic terms represent interactions between stems\n",
    "- High quadratic term values prevent physically impossible structures"
   ]
  },
  {
   "cell_type": "markdown",
   "metadata": {},
   "source": [
    "## 7. Visualize Results"
   ]
  },
  {
   "cell_type": "code",
   "execution_count": 13,
   "metadata": {},
   "outputs": [
    {
     "data": {
      "image/png": "[encoded data removed]",
      "text/plain": [
       "<Figure size 1500x1000 with 4 Axes>"
      ]
     },
     "metadata": {},
     "output_type": "display_data"
    }
   ],
   "source": [
    "# Create a figure with multiple subplots\n",
    "plt.figure(figsize=(15, 10))\n",
    "\n",
    "# Plot 1: Distribution of stem energies\n",
    "plt.subplot(2, 2, 1)\n",
    "stem_energies = [stem[2] for stem in stems_potential]\n",
    "plt.hist(stem_energies, bins=20)\n",
    "plt.title('Distribution of Stem Energies')\n",
    "plt.xlabel('Energy (kcal/mol)')\n",
    "plt.ylabel('Count')\n",
    "\n",
    "# Plot 2: Distribution of linear terms\n",
    "plt.subplot(2, 2, 2)\n",
    "linear_values = list(L.values())\n",
    "plt.hist(linear_values, bins=20)\n",
    "plt.title('Distribution of Linear Terms')\n",
    "plt.xlabel('Energy (kcal/mol)')\n",
    "plt.ylabel('Count')\n",
    "\n",
    "# Plot 3: Distribution of quadratic terms\n",
    "plt.subplot(2, 2, 3)\n",
    "quadratic_values = list(Q.values())\n",
    "plt.hist(quadratic_values, bins=20)\n",
    "plt.title('Distribution of Quadratic Terms')\n",
    "plt.xlabel('Energy (kcal/mol)')\n",
    "plt.ylabel('Count')\n",
    "\n",
    "# Plot 4: Stem length vs energy\n",
    "plt.subplot(2, 2, 4)\n",
    "stem_lengths = [stem[1] - stem[0] for stem in stems_potential]\n",
    "plt.scatter(stem_lengths, stem_energies, alpha=0.5)\n",
    "plt.title('Stem Length vs Energy')\n",
    "plt.xlabel('Stem Length (nucleotides)')\n",
    "plt.ylabel('Energy (kcal/mol)')\n",
    "\n",
    "plt.tight_layout()\n",
    "plt.show()"
   ]
  },
  {
   "cell_type": "markdown",
   "metadata": {},
   "source": [
    "### Analysis of Visualizations\n",
    "The plots reveal important patterns in the RNA structure:\n",
    "1. Stem Energy Distribution: Shows the range and frequency of stem energies\n",
    "2. Linear Terms Distribution: Illustrates the energy landscape for individual stems\n",
    "3. Quadratic Terms Distribution: Shows the strength of stem interactions\n",
    "4. Stem Length vs Energy: Demonstrates the relationship between stem size and stability\n",
    "\n",
    "These visualizations help understand the energy landscape of RNA folding and the factors affecting structure prediction."
   ]
  },
  {
   "cell_type": "markdown",
   "metadata": {},
   "source": [
    "## 8. Summary Statistics"
   ]
  },
  {
   "cell_type": "code",
   "execution_count": 10,
   "metadata": {},
   "outputs": [
    {
     "name": "stdout",
     "output_type": "stream",
     "text": [
      "Summary Statistics:\n",
      "1. Sequence length: 33\n",
      "2. Number of actual stems: 3\n",
      "3. Number of potential stems: 74\n",
      "4. Number of pseudoknots: 1132\n",
      "5. Number of overlaps: 2652\n",
      "6. Number of linear terms: 74\n",
      "7. Number of quadratic terms: 2701\n",
      "8. Maximum stem energy (mu): 14.7\n",
      "9. Average stem energy: 7.97\n",
      "10. Average linear term: -15.30\n",
      "11. Average quadratic term: 9641.20\n"
     ]
    }
   ],
   "source": [
    "print(\"Summary Statistics:\")\n",
    "print(f\"1. Sequence length: {seq_length}\")\n",
    "print(f\"2. Number of actual stems: {len(actual_stems_list)}\")\n",
    "print(f\"3. Number of potential stems: {len(stems_potential)}\")\n",
    "print(f\"4. Number of pseudoknots: {len(actual_pseudoknots)}\")\n",
    "print(f\"5. Number of overlaps: {len(actual_overlaps)}\")\n",
    "print(f\"6. Number of linear terms: {len(L)}\")\n",
    "print(f\"7. Number of quadratic terms: {len(Q)}\")\n",
    "print(f\"8. Maximum stem energy (mu): {mu}\")\n",
    "print(f\"9. Average stem energy: {np.mean(stem_energies):.2f}\")\n",
    "print(f\"10. Average linear term: {np.mean(linear_values):.2f}\")\n",
    "print(f\"11. Average quadratic term: {np.mean(quadratic_values):.2f}\")"
   ]
  },
  {
   "cell_type": "markdown",
   "metadata": {},
   "source": [
    "### Analysis of Summary Statistics\n",
    "The statistics reveal key insights about the RNA structure:\n",
    "- Moderate sequence length (33 nucleotides)\n",
    "- Small number of actual stems (3) compared to potential stems (74)\n",
    "- Large number of pseudoknots (1132) and overlaps (2652)\n",
    "- High average quadratic term (981681.18) reflecting strong penalties\n",
    "- Reasonable average stem energy (7.97) and linear term (-15.30)\n",
    "\n",
    "These numbers highlight the complexity of RNA structure prediction and the importance of energy-based constraints in determining the final structure."
   ]
  }
 ],
 "metadata": {
  "language_info": {
   "name": "python"
  }
 },
 "nbformat": 4,
 "nbformat_minor": 2
}
